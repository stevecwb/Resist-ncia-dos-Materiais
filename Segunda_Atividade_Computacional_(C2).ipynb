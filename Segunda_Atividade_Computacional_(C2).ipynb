{
  "nbformat": 4,
  "nbformat_minor": 0,
  "metadata": {
    "colab": {
      "name": "Segunda Atividade Computacional (C2).ipynb",
      "provenance": [],
      "include_colab_link": true
    },
    "kernelspec": {
      "name": "python3",
      "display_name": "Python 3"
    },
    "language_info": {
      "name": "python"
    }
  },
  "cells": [
    {
      "cell_type": "markdown",
      "metadata": {
        "id": "view-in-github",
        "colab_type": "text"
      },
      "source": [
        "<a href=\"https://colab.research.google.com/github/stevecwb/Resist-ncia-dos-Materiais/blob/main/Segunda_Atividade_Computacional_(C2).ipynb\" target=\"_parent\"><img src=\"https://colab.research.google.com/assets/colab-badge.svg\" alt=\"Open In Colab\"/></a>"
      ]
    },
    {
      "cell_type": "markdown",
      "source": [
        "# EM423 - Atividade Computacional II\n",
        "\n",
        "Estevão Sanches Rodrigues, 168030"
      ],
      "metadata": {
        "id": "99GWEnrevJe6"
      }
    },
    {
      "cell_type": "markdown",
      "source": [
        "# Questão 1"
      ],
      "metadata": {
        "id": "6LlzNPuXun2N"
      }
    },
    {
      "cell_type": "markdown",
      "source": [
        "## Bibliotecas Importadas"
      ],
      "metadata": {
        "id": "DEHXKl9bQocF"
      }
    },
    {
      "cell_type": "code",
      "source": [
        "import pandas as pd\n",
        "import numpy as np\n",
        "import matplotlib.pyplot as plt\n",
        "from scipy.optimize import curve_fit\n",
        "from sklearn.metrics import r2_score, mean_squared_error\n",
        "import seaborn as sns"
      ],
      "metadata": {
        "id": "RKvPE-vJwwpk"
      },
      "execution_count": 192,
      "outputs": []
    },
    {
      "cell_type": "markdown",
      "source": [
        "## Definição de funções"
      ],
      "metadata": {
        "id": "zikQbQ8AQtYD"
      }
    },
    {
      "cell_type": "code",
      "source": [
        "def linear_func(x,a,b):\n",
        "  # definição da equação da reta (função linear)\n",
        "  y = a*x+b\n",
        "  return y"
      ],
      "metadata": {
        "id": "qh_HcnUP5ZzW"
      },
      "execution_count": 193,
      "outputs": []
    },
    {
      "cell_type": "markdown",
      "source": [
        "## Dados Iniciais da Questão 1"
      ],
      "metadata": {
        "id": "Y04jpr3kWeey"
      }
    },
    {
      "cell_type": "code",
      "execution_count": 194,
      "metadata": {
        "colab": {
          "base_uri": "https://localhost:8080/",
          "height": 206
        },
        "id": "Hi-vntmyuN-R",
        "outputId": "cc55a8de-8eb8-4932-b0be-b727529428ac"
      },
      "outputs": [
        {
          "output_type": "execute_result",
          "data": {
            "text/plain": [
              "   Deslocamento longitudinal [mm]  Deslocamento lateral [μm]  Carga [kN]\n",
              "0                           0.000                        0.0        0.00\n",
              "1                           0.011                       -0.9       18.26\n",
              "2                           0.033                       -2.7       36.53\n",
              "3                           0.105                       -8.6      109.60\n",
              "4                           0.182                      -15.0      182.70"
            ],
            "text/html": [
              "\n",
              "  <div id=\"df-e8c7230c-7d82-4b59-af79-17fa2b7eb861\">\n",
              "    <div class=\"colab-df-container\">\n",
              "      <div>\n",
              "<style scoped>\n",
              "    .dataframe tbody tr th:only-of-type {\n",
              "        vertical-align: middle;\n",
              "    }\n",
              "\n",
              "    .dataframe tbody tr th {\n",
              "        vertical-align: top;\n",
              "    }\n",
              "\n",
              "    .dataframe thead th {\n",
              "        text-align: right;\n",
              "    }\n",
              "</style>\n",
              "<table border=\"1\" class=\"dataframe\">\n",
              "  <thead>\n",
              "    <tr style=\"text-align: right;\">\n",
              "      <th></th>\n",
              "      <th>Deslocamento longitudinal [mm]</th>\n",
              "      <th>Deslocamento lateral [μm]</th>\n",
              "      <th>Carga [kN]</th>\n",
              "    </tr>\n",
              "  </thead>\n",
              "  <tbody>\n",
              "    <tr>\n",
              "      <th>0</th>\n",
              "      <td>0.000</td>\n",
              "      <td>0.0</td>\n",
              "      <td>0.00</td>\n",
              "    </tr>\n",
              "    <tr>\n",
              "      <th>1</th>\n",
              "      <td>0.011</td>\n",
              "      <td>-0.9</td>\n",
              "      <td>18.26</td>\n",
              "    </tr>\n",
              "    <tr>\n",
              "      <th>2</th>\n",
              "      <td>0.033</td>\n",
              "      <td>-2.7</td>\n",
              "      <td>36.53</td>\n",
              "    </tr>\n",
              "    <tr>\n",
              "      <th>3</th>\n",
              "      <td>0.105</td>\n",
              "      <td>-8.6</td>\n",
              "      <td>109.60</td>\n",
              "    </tr>\n",
              "    <tr>\n",
              "      <th>4</th>\n",
              "      <td>0.182</td>\n",
              "      <td>-15.0</td>\n",
              "      <td>182.70</td>\n",
              "    </tr>\n",
              "  </tbody>\n",
              "</table>\n",
              "</div>\n",
              "      <button class=\"colab-df-convert\" onclick=\"convertToInteractive('df-e8c7230c-7d82-4b59-af79-17fa2b7eb861')\"\n",
              "              title=\"Convert this dataframe to an interactive table.\"\n",
              "              style=\"display:none;\">\n",
              "        \n",
              "  <svg xmlns=\"http://www.w3.org/2000/svg\" height=\"24px\"viewBox=\"0 0 24 24\"\n",
              "       width=\"24px\">\n",
              "    <path d=\"M0 0h24v24H0V0z\" fill=\"none\"/>\n",
              "    <path d=\"M18.56 5.44l.94 2.06.94-2.06 2.06-.94-2.06-.94-.94-2.06-.94 2.06-2.06.94zm-11 1L8.5 8.5l.94-2.06 2.06-.94-2.06-.94L8.5 2.5l-.94 2.06-2.06.94zm10 10l.94 2.06.94-2.06 2.06-.94-2.06-.94-.94-2.06-.94 2.06-2.06.94z\"/><path d=\"M17.41 7.96l-1.37-1.37c-.4-.4-.92-.59-1.43-.59-.52 0-1.04.2-1.43.59L10.3 9.45l-7.72 7.72c-.78.78-.78 2.05 0 2.83L4 21.41c.39.39.9.59 1.41.59.51 0 1.02-.2 1.41-.59l7.78-7.78 2.81-2.81c.8-.78.8-2.07 0-2.86zM5.41 20L4 18.59l7.72-7.72 1.47 1.35L5.41 20z\"/>\n",
              "  </svg>\n",
              "      </button>\n",
              "      \n",
              "  <style>\n",
              "    .colab-df-container {\n",
              "      display:flex;\n",
              "      flex-wrap:wrap;\n",
              "      gap: 12px;\n",
              "    }\n",
              "\n",
              "    .colab-df-convert {\n",
              "      background-color: #E8F0FE;\n",
              "      border: none;\n",
              "      border-radius: 50%;\n",
              "      cursor: pointer;\n",
              "      display: none;\n",
              "      fill: #1967D2;\n",
              "      height: 32px;\n",
              "      padding: 0 0 0 0;\n",
              "      width: 32px;\n",
              "    }\n",
              "\n",
              "    .colab-df-convert:hover {\n",
              "      background-color: #E2EBFA;\n",
              "      box-shadow: 0px 1px 2px rgba(60, 64, 67, 0.3), 0px 1px 3px 1px rgba(60, 64, 67, 0.15);\n",
              "      fill: #174EA6;\n",
              "    }\n",
              "\n",
              "    [theme=dark] .colab-df-convert {\n",
              "      background-color: #3B4455;\n",
              "      fill: #D2E3FC;\n",
              "    }\n",
              "\n",
              "    [theme=dark] .colab-df-convert:hover {\n",
              "      background-color: #434B5C;\n",
              "      box-shadow: 0px 1px 3px 1px rgba(0, 0, 0, 0.15);\n",
              "      filter: drop-shadow(0px 1px 2px rgba(0, 0, 0, 0.3));\n",
              "      fill: #FFFFFF;\n",
              "    }\n",
              "  </style>\n",
              "\n",
              "      <script>\n",
              "        const buttonEl =\n",
              "          document.querySelector('#df-e8c7230c-7d82-4b59-af79-17fa2b7eb861 button.colab-df-convert');\n",
              "        buttonEl.style.display =\n",
              "          google.colab.kernel.accessAllowed ? 'block' : 'none';\n",
              "\n",
              "        async function convertToInteractive(key) {\n",
              "          const element = document.querySelector('#df-e8c7230c-7d82-4b59-af79-17fa2b7eb861');\n",
              "          const dataTable =\n",
              "            await google.colab.kernel.invokeFunction('convertToInteractive',\n",
              "                                                     [key], {});\n",
              "          if (!dataTable) return;\n",
              "\n",
              "          const docLinkHtml = 'Like what you see? Visit the ' +\n",
              "            '<a target=\"_blank\" href=https://colab.research.google.com/notebooks/data_table.ipynb>data table notebook</a>'\n",
              "            + ' to learn more about interactive tables.';\n",
              "          element.innerHTML = '';\n",
              "          dataTable['output_type'] = 'display_data';\n",
              "          await google.colab.output.renderOutput(dataTable, element);\n",
              "          const docLink = document.createElement('div');\n",
              "          docLink.innerHTML = docLinkHtml;\n",
              "          element.appendChild(docLink);\n",
              "        }\n",
              "      </script>\n",
              "    </div>\n",
              "  </div>\n",
              "  "
            ]
          },
          "metadata": {},
          "execution_count": 194
        }
      ],
      "source": [
        "comprimento_inicial = 110.0 # mm\n",
        "diametro_inicial = 26.0 # mm\n",
        "\n",
        "dados_e = [[0, 0, 0], \n",
        "           [0.011, -0.9, 18.26], \n",
        "           [0.033, -2.7, 36.53], \n",
        "           [0.105, -8.6, 109.6], \n",
        "           [0.182, -15, 182.7], \n",
        "           [0.215, -17.7, 219.3],\n",
        "           [0.237, -19.6, 235.8],\n",
        "           [0.259, -22.2, 244.9],\n",
        "           [0.297, -26.7, 248.6],\n",
        "           [0.347, -32.5, 252.2],\n",
        "           [0.495, -50, 255.9],\n",
        "           [0.561, -58, 263.2],\n",
        "           [0.715, -76, 277.8],\n",
        "           [1.27, -140, 307.0],\n",
        "           [1.85, -207, 336.3],\n",
        "           [2.79, -315, 365.5],\n",
        "           [6.09, -683, 409.4]]\n",
        "\n",
        "df = pd.DataFrame(dados_e, columns = ['Deslocamento longitudinal [mm]', 'Deslocamento lateral [μm]', 'Carga [kN]'])\n",
        "df.head()"
      ]
    },
    {
      "cell_type": "markdown",
      "source": [
        "## Letra A e B:"
      ],
      "metadata": {
        "id": "Y2dYWyyrtnNG"
      }
    },
    {
      "cell_type": "markdown",
      "source": [
        "### Diagrama de Tensão-Deformação:"
      ],
      "metadata": {
        "id": "wLgdzb69WoKb"
      }
    },
    {
      "cell_type": "code",
      "source": [
        "df['Deformação [mm/mm]'] = df['Deslocamento longitudinal [mm]']/comprimento_inicial\n",
        "df['Tensão [MPa]'] = 1000*(df['Carga [kN]']/(np.pi*((diametro_inicial/2)**2)))\n",
        "df['Deformação lateral [mm/mm]'] = df['Deslocamento lateral [μm]']/(1000*diametro_inicial)\n",
        "x = df['Deformação [mm/mm]']\n",
        "y = df['Tensão [MPa]']\n",
        "\n",
        "fig=plt.figure(figsize=(10, 10))\n",
        "plt.style.use('ggplot')\n",
        "_ = sns.lineplot(x=x, y=y, data=df, color='#003f5c', marker='o')\n",
        "plt.xlabel('Deformação $\\epsilon$ [mm/mm]')\n",
        "plt.ylabel('Tensão $\\sigma$ [MPa]')\n",
        "plt.title('Tensão Pela Deformação')"
      ],
      "metadata": {
        "id": "4ZRUgCcZw6UJ",
        "colab": {
          "base_uri": "https://localhost:8080/",
          "height": 648
        },
        "outputId": "f8c7a983-f20e-4fe2-acf1-5980a3bb66b9"
      },
      "execution_count": 203,
      "outputs": [
        {
          "output_type": "execute_result",
          "data": {
            "text/plain": [
              "Text(0.5, 1.0, 'Tensão Pela Deformação')"
            ]
          },
          "metadata": {},
          "execution_count": 203
        },
        {
          "output_type": "display_data",
          "data": {
            "text/plain": [
              "<Figure size 720x720 with 1 Axes>"
            ],
            "image/png": "[encoded data removed]"
          },
          "metadata": {}
        }
      ]
    },
    {
      "cell_type": "markdown",
      "source": [
        "### Diagrama de Deformação Longitudinal por Deformação Lateral "
      ],
      "metadata": {
        "id": "9I9ZRo7Xtq19"
      }
    },
    {
      "cell_type": "code",
      "source": [
        "#X = (df.loc[df['Tensão [MPa]']<461, ['Deformação [mm/mm]']])['Deformação [mm/mm]']\n",
        "#Y = (df.loc[df['Tensão [MPa]']<461, ['Deformação lateral [mm/mm]']])['Deformação lateral [mm/mm]']\n",
        "df_2 = df.loc[df['Tensão [MPa]']<461]\n",
        "#display(df_2)\n",
        "#display(X)\n",
        "#display(Y)\n",
        "# Ajustar a função escolhida usando a função curve_fit da biblioteca scipy\n",
        "[a,b], _= curve_fit(linear_func, df_2['Deformação [mm/mm]'], df_2['Deformação lateral [mm/mm]']) # o _= serve para que a matriz não seja carregada numa variável\n",
        "\n",
        "# Realizar predição com o modelo de aprendizado de máquina\n",
        "Y_pred = linear_func(df_2['Deformação [mm/mm]'],a,b)\n",
        "\n",
        "# Calcular as métricas para avaliar o ajuste do modelo aos dados\n",
        "'''\n",
        "As métricas utilizadas neste exemplo são o R^2 e o EQM\n",
        "Estas métricas estão disponíveis na biblioteca sklearn\n",
        "'''\n",
        "\n",
        "r2 = r2_score(df_2['Deformação lateral [mm/mm]'], Y_pred)\n",
        "mse = mean_squared_error(df_2['Deformação lateral [mm/mm]'], Y_pred)\n",
        "\n",
        "# Gerar um gráfico do ajuste\n",
        "fig=plt.figure(figsize=(10, 10))\n",
        "plt.style.use('ggplot')\n",
        "#plt.cla()\n",
        "#plt.plot(X, Y_pred, 'k--')\n",
        "#plt.scatter(df_2['Deformação [mm/mm]'],df_2['Deformação lateral [mm/mm]'], c='r', marker='o')\n",
        "_ = sns.regplot(x='Deformação [mm/mm]', y='Deformação lateral [mm/mm]', data=df_2, color='#003f5c', ci=95)\n",
        "#_ = sns.regplot(x=X, y=Y, data=df, color='#003f5c', ci=95)\n",
        "plt.xlabel('Deformação longitudinal [mm/mm]')\n",
        "plt.ylabel('Deformação lateral [mm/mm]')\n",
        "plt.legend(['$R^2 =$ {:.4f} / $MSE$ = {:.4f}'.format(r2,mse),'Valores reais'])\n",
        "plt.title('Deformação Lateral pela Deformação Longitudinal')\n",
        "#plt.title('$Y = {:.4f}X + {:.4f}$'.format(a,b))\n",
        "#plt.grid()"
      ],
      "metadata": {
        "colab": {
          "base_uri": "https://localhost:8080/",
          "height": 644
        },
        "id": "JwTHP6cit2hE",
        "outputId": "cc47fe07-91aa-4198-ab32-c75d317cdc96"
      },
      "execution_count": 196,
      "outputs": [
        {
          "output_type": "execute_result",
          "data": {
            "text/plain": [
              "Text(0.5, 1.0, 'Deformação Lateral pela Deformação Longitudinal')"
            ]
          },
          "metadata": {},
          "execution_count": 196
        },
        {
          "output_type": "display_data",
          "data": {
            "text/plain": [
              "<Figure size 720x720 with 1 Axes>"
            ],
            "image/png": "[encoded data removed]"
          },
          "metadata": {}
        }
      ]
    },
    {
      "cell_type": "markdown",
      "source": [
        "### Propriedades do material que foram calculadas"
      ],
      "metadata": {
        "id": "Ft5uZw2vt2mu"
      }
    },
    {
      "cell_type": "code",
      "source": [
        "coef, cov= np.polyfit(x=df_2['Deformação [mm/mm]'], y=df_2['Tensão [MPa]'], deg=1, cov=True)\n",
        "E = coef[0]\n",
        "SY = df.iloc[7]['Tensão [MPa]']\n",
        "SU = (SY*df.iloc[7]['Deformação [mm/mm]'])/2\n",
        "print(f'O limite de escoamento é dado por: {SY:.4} MPa')\n",
        "print(f'O limite de resistência é dado por: {SU:.4} MPa*mm/mm')\n",
        "print(f'O módulo da elasticidade é dado por: {E:.4} MPa')\n",
        "print(f'Reta obtida da regressão: y = {a:.3}x + {b:.3}')\n",
        "print(f'O valor do Coeficiente de Poisson é {-a:.3}')\n",
        "G = E/(2*(1-a))\n",
        "print(f'O valor do Módulo de Elasticidade Transversal é {G:.3}')"
      ],
      "metadata": {
        "id": "KUt0hiTHTdpR",
        "colab": {
          "base_uri": "https://localhost:8080/"
        },
        "outputId": "6fa18e90-cb84-4876-979b-e59571ae4a2e"
      },
      "execution_count": 197,
      "outputs": [
        {
          "output_type": "stream",
          "name": "stdout",
          "text": [
            "O limite de escoamento é dado por: 461.3 MPa\n",
            "O limite de resistência é dado por: 0.543 MPa*mm/mm\n",
            "O módulo da elasticidade é dado por: 2.048e+05 MPa\n",
            "Reta obtida da regressão: y = -0.349x + 8.21e-07\n",
            "O valor do Coeficiente de Poisson é 0.349\n",
            "O valor do Módulo de Elasticidade Transversal é 7.59e+04\n"
          ]
        }
      ]
    },
    {
      "cell_type": "markdown",
      "source": [
        "# Questão 2"
      ],
      "metadata": {
        "id": "cfJ6AgbbnHmF"
      }
    },
    {
      "cell_type": "markdown",
      "source": [
        "## Dados Iniciais da Questão 2"
      ],
      "metadata": {
        "id": "yyKAqAo8nLfc"
      }
    },
    {
      "cell_type": "code",
      "source": [
        "a = 330 # mm\n",
        "b = 235 # mm\n",
        "δ = 0.08 # mm\n",
        "T0 = 40 # ºC"
      ],
      "metadata": {
        "id": "imPIMM0rnLEK"
      },
      "execution_count": 198,
      "outputs": []
    },
    {
      "cell_type": "markdown",
      "source": [
        "## Letra A: pesquisa de propriedades mecânicas"
      ],
      "metadata": {
        "id": "JFznkBo9j5ih"
      }
    },
    {
      "cell_type": "code",
      "source": [
        "propriedades = {'Aço': [193, 0.27, 17*(10**(-6)), 207], \n",
        "                'Cobre': [101, 0.35, 18*(10**(-6)), 70.0],\n",
        "                'Alumínio': [73.1, 0.35, 23*(10**(-6)), 414]}\n",
        "Aco_elasticidade = 193 # MPa\n",
        "Cu_elasticidade = 101 # MPa\n",
        "Al_elasticidade = 73.1 # MPa\n",
        "Aco_poisson = 0.27\n",
        "Cu_poisson = 0.35\n",
        "Al_poisson = 0.35\n",
        "Aco_dilatacao = 17*(10**(-6)) # 1/ºC\n",
        "Cu_dilatacao = 18*(10**(-6)) # 1/ºC\n",
        "Al_dilatacao = 23*(10**(-6)) # 1/ºC\n",
        "Aco_escoamento = 207 # MPa\n",
        "Cu_escoamento = 70.0 # MPa\n",
        "Al_escoamento = 414 # MPa"
      ],
      "metadata": {
        "id": "NaIMqeBQkAE2"
      },
      "execution_count": 199,
      "outputs": []
    },
    {
      "cell_type": "markdown",
      "source": [
        "## Letra B:\n",
        "\n",
        "Usando as expressões analíticas calculadas no relatório, pode-se calcular T1 e a folga para cada metal de interesse:"
      ],
      "metadata": {
        "id": "f4Xvp_Gil6rc"
      }
    },
    {
      "cell_type": "code",
      "source": [
        "for i in propriedades:\n",
        "  T1 = -δ/(propriedades[i][2]*b) + T0\n",
        "  δy = δ*((a/b)-1)\n",
        "  print(f'A Temperatura 1 para o {i} é {T1:.4} ºC')\n",
        "  print(f'A Folga para o {i} é {δy:.4} mm\\n')"
      ],
      "metadata": {
        "colab": {
          "base_uri": "https://localhost:8080/"
        },
        "id": "DmpfGRoVl_L4",
        "outputId": "82f453ed-2a20-43e1-91fb-e454a27dbd9e"
      },
      "execution_count": 200,
      "outputs": [
        {
          "output_type": "stream",
          "name": "stdout",
          "text": [
            "A Temperatura 1 para o Aço é 19.97 ºC\n",
            "A Folga para o Aço é 0.03234 mm\n",
            "\n",
            "A Temperatura 1 para o Cobre é 21.09 ºC\n",
            "A Folga para o Cobre é 0.03234 mm\n",
            "\n",
            "A Temperatura 1 para o Alumínio é 25.2 ºC\n",
            "A Folga para o Alumínio é 0.03234 mm\n",
            "\n"
          ]
        }
      ]
    },
    {
      "cell_type": "markdown",
      "source": [
        "## Letra C:"
      ],
      "metadata": {
        "id": "Oscsh7dingaj"
      }
    },
    {
      "cell_type": "code",
      "source": [
        "for i in propriedades:\n",
        "  T2 = (δ*(a-b))/(propriedades[i][2]*(a*b-a*δ)) - δ/(propriedades[i][2]*b) + T0\n",
        "  σx = -((propriedades[i][0])*δ*(a-b))/(a*b-a*δ)\n",
        "  print(f'A Temperatura 2 para o {i} é {T2:.4} ºC')\n",
        "  print(f'A tensão em x (σx) para o {i} é {σx:.4} MPa\\n')"
      ],
      "metadata": {
        "colab": {
          "base_uri": "https://localhost:8080/"
        },
        "id": "aMCLb6ivnf8x",
        "outputId": "0dd9b751-cce1-4312-cb8a-c8a27f49c2fa"
      },
      "execution_count": 201,
      "outputs": [
        {
          "output_type": "stream",
          "name": "stdout",
          "text": [
            "A Temperatura 2 para o Aço é 25.74 ºC\n",
            "A tensão em x (σx) para o Aço é -0.01892 MPa\n",
            "\n",
            "A Temperatura 2 para o Cobre é 26.53 ºC\n",
            "A tensão em x (σx) para o Cobre é -0.009902 MPa\n",
            "\n",
            "A Temperatura 2 para o Alumínio é 29.46 ºC\n",
            "A tensão em x (σx) para o Alumínio é -0.007166 MPa\n",
            "\n"
          ]
        }
      ]
    },
    {
      "cell_type": "code",
      "source": [
        "coef, cov= np.polyfit(x=df_2['Deformação [mm/mm]'], y=df_2['Tensão [MPa]'], deg=1, cov=True)\n",
        "print(coef[0])\n",
        "print(coef[1])\n",
        "print(cov)\n",
        "print(np.sqrt(np.diag(cov)))"
      ],
      "metadata": {
        "id": "K37hC_UvnrvJ",
        "colab": {
          "base_uri": "https://localhost:8080/"
        },
        "outputId": "49e59ac8-5904-45dc-a34c-8e3fb0d41842"
      },
      "execution_count": 202,
      "outputs": [
        {
          "output_type": "stream",
          "name": "stdout",
          "text": [
            "204774.65932309564\n",
            "7.613421128932509\n",
            "[[ 6.56395929e+06 -6.67477938e+03]\n",
            " [-6.67477938e+03  1.14503504e+01]]\n",
            "[2562.02249976    3.38383664]\n"
          ]
        }
      ]
    }
  ]
}